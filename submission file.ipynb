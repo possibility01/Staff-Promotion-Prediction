{
 "cells": [
  {
   "cell_type": "markdown",
   "metadata": {},
   "source": [
    "Import the relevant libraries"
   ]
  },
  {
   "cell_type": "code",
   "execution_count": 1,
   "metadata": {},
   "outputs": [],
   "source": [
    "import numpy as np\n",
    "import pandas as pd\n",
    "import matplotlib.pyplot as plt\n",
    "import seaborn as sns\n",
    "import warnings\n",
    "warnings.filterwarnings('ignore')"
   ]
  },
  {
   "cell_type": "markdown",
   "metadata": {},
   "source": [
    "Loading the training and test dataset"
   ]
  },
  {
   "cell_type": "code",
   "execution_count": 2,
   "metadata": {},
   "outputs": [],
   "source": [
    "training_set = pd.read_csv('train.csv')\n",
    "test_set = pd.read_csv('test.csv')"
   ]
  },
  {
   "cell_type": "markdown",
   "metadata": {},
   "source": [
    "Checking the details of the datasets"
   ]
  },
  {
   "cell_type": "code",
   "execution_count": 3,
   "metadata": {},
   "outputs": [
    {
     "name": "stdout",
     "output_type": "stream",
     "text": [
      "<class 'pandas.core.frame.DataFrame'>\n",
      "RangeIndex: 38312 entries, 0 to 38311\n",
      "Data columns (total 19 columns):\n",
      "EmployeeNo                             38312 non-null object\n",
      "Division                               38312 non-null object\n",
      "Qualification                          36633 non-null object\n",
      "Gender                                 38312 non-null object\n",
      "Channel_of_Recruitment                 38312 non-null object\n",
      "Trainings_Attended                     38312 non-null int64\n",
      "Year_of_birth                          38312 non-null int64\n",
      "Last_performance_score                 38312 non-null float64\n",
      "Year_of_recruitment                    38312 non-null int64\n",
      "Targets_met                            38312 non-null int64\n",
      "Previous_Award                         38312 non-null int64\n",
      "Training_score_average                 38312 non-null int64\n",
      "State_Of_Origin                        38312 non-null object\n",
      "Foreign_schooled                       38312 non-null object\n",
      "Marital_Status                         38312 non-null object\n",
      "Past_Disciplinary_Action               38312 non-null object\n",
      "Previous_IntraDepartmental_Movement    38312 non-null object\n",
      "No_of_previous_employers               38312 non-null object\n",
      "Promoted_or_Not                        38312 non-null int64\n",
      "dtypes: float64(1), int64(7), object(11)\n",
      "memory usage: 5.6+ MB\n"
     ]
    }
   ],
   "source": [
    "training_set.info()"
   ]
  },
  {
   "cell_type": "code",
   "execution_count": 4,
   "metadata": {},
   "outputs": [
    {
     "name": "stdout",
     "output_type": "stream",
     "text": [
      "<class 'pandas.core.frame.DataFrame'>\n",
      "RangeIndex: 16496 entries, 0 to 16495\n",
      "Data columns (total 18 columns):\n",
      "EmployeeNo                             16496 non-null object\n",
      "Division                               16496 non-null object\n",
      "Qualification                          15766 non-null object\n",
      "Gender                                 16496 non-null object\n",
      "Channel_of_Recruitment                 16496 non-null object\n",
      "Trainings_Attended                     16496 non-null int64\n",
      "Year_of_birth                          16496 non-null int64\n",
      "Last_performance_score                 16496 non-null float64\n",
      "Year_of_recruitment                    16496 non-null int64\n",
      "Targets_met                            16496 non-null int64\n",
      "Previous_Award                         16496 non-null int64\n",
      "Training_score_average                 16496 non-null int64\n",
      "State_Of_Origin                        16496 non-null object\n",
      "Foreign_schooled                       16496 non-null object\n",
      "Marital_Status                         16496 non-null object\n",
      "Past_Disciplinary_Action               16496 non-null object\n",
      "Previous_IntraDepartmental_Movement    16496 non-null object\n",
      "No_of_previous_employers               16496 non-null object\n",
      "dtypes: float64(1), int64(6), object(11)\n",
      "memory usage: 2.3+ MB\n"
     ]
    }
   ],
   "source": [
    "test_set.info()"
   ]
  },
  {
   "cell_type": "markdown",
   "metadata": {},
   "source": [
    "checking if there are nan values in the dataset and how many are they"
   ]
  },
  {
   "cell_type": "code",
   "execution_count": 5,
   "metadata": {},
   "outputs": [
    {
     "data": {
      "text/plain": [
       "EmployeeNo                                0\n",
       "Division                                  0\n",
       "Qualification                          1679\n",
       "Gender                                    0\n",
       "Channel_of_Recruitment                    0\n",
       "Trainings_Attended                        0\n",
       "Year_of_birth                             0\n",
       "Last_performance_score                    0\n",
       "Year_of_recruitment                       0\n",
       "Targets_met                               0\n",
       "Previous_Award                            0\n",
       "Training_score_average                    0\n",
       "State_Of_Origin                           0\n",
       "Foreign_schooled                          0\n",
       "Marital_Status                            0\n",
       "Past_Disciplinary_Action                  0\n",
       "Previous_IntraDepartmental_Movement       0\n",
       "No_of_previous_employers                  0\n",
       "Promoted_or_Not                           0\n",
       "dtype: int64"
      ]
     },
     "execution_count": 5,
     "metadata": {},
     "output_type": "execute_result"
    }
   ],
   "source": [
    "training_set.isnull().sum()"
   ]
  },
  {
   "cell_type": "code",
   "execution_count": 6,
   "metadata": {},
   "outputs": [
    {
     "data": {
      "text/plain": [
       "EmployeeNo                               0\n",
       "Division                                 0\n",
       "Qualification                          730\n",
       "Gender                                   0\n",
       "Channel_of_Recruitment                   0\n",
       "Trainings_Attended                       0\n",
       "Year_of_birth                            0\n",
       "Last_performance_score                   0\n",
       "Year_of_recruitment                      0\n",
       "Targets_met                              0\n",
       "Previous_Award                           0\n",
       "Training_score_average                   0\n",
       "State_Of_Origin                          0\n",
       "Foreign_schooled                         0\n",
       "Marital_Status                           0\n",
       "Past_Disciplinary_Action                 0\n",
       "Previous_IntraDepartmental_Movement      0\n",
       "No_of_previous_employers                 0\n",
       "dtype: int64"
      ]
     },
     "execution_count": 6,
     "metadata": {},
     "output_type": "execute_result"
    }
   ],
   "source": [
    "test_set.isnull().sum()"
   ]
  },
  {
   "cell_type": "markdown",
   "metadata": {},
   "source": [
    "There are 1670 and 730 nan values in train and test dataset respectively,which are all in Qualification column only"
   ]
  },
  {
   "cell_type": "markdown",
   "metadata": {},
   "source": [
    "Filling the nan entities with the modal entry"
   ]
  },
  {
   "cell_type": "code",
   "execution_count": 7,
   "metadata": {},
   "outputs": [],
   "source": [
    "training_set.Qualification.fillna(training_set['Qualification'].mode()[0],inplace=True)\n",
    "test_set['Qualification'].fillna(test_set['Qualification'].mode()[0],inplace=True)"
   ]
  },
  {
   "cell_type": "code",
   "execution_count": 8,
   "metadata": {},
   "outputs": [
    {
     "name": "stdout",
     "output_type": "stream",
     "text": [
      "<class 'pandas.core.frame.DataFrame'>\n",
      "RangeIndex: 38312 entries, 0 to 38311\n",
      "Data columns (total 19 columns):\n",
      "EmployeeNo                             38312 non-null object\n",
      "Division                               38312 non-null object\n",
      "Qualification                          38312 non-null object\n",
      "Gender                                 38312 non-null object\n",
      "Channel_of_Recruitment                 38312 non-null object\n",
      "Trainings_Attended                     38312 non-null int64\n",
      "Year_of_birth                          38312 non-null int64\n",
      "Last_performance_score                 38312 non-null float64\n",
      "Year_of_recruitment                    38312 non-null int64\n",
      "Targets_met                            38312 non-null int64\n",
      "Previous_Award                         38312 non-null int64\n",
      "Training_score_average                 38312 non-null int64\n",
      "State_Of_Origin                        38312 non-null object\n",
      "Foreign_schooled                       38312 non-null object\n",
      "Marital_Status                         38312 non-null object\n",
      "Past_Disciplinary_Action               38312 non-null object\n",
      "Previous_IntraDepartmental_Movement    38312 non-null object\n",
      "No_of_previous_employers               38312 non-null object\n",
      "Promoted_or_Not                        38312 non-null int64\n",
      "dtypes: float64(1), int64(7), object(11)\n",
      "memory usage: 5.6+ MB\n"
     ]
    }
   ],
   "source": [
    "training_set.info()"
   ]
  },
  {
   "cell_type": "code",
   "execution_count": 9,
   "metadata": {},
   "outputs": [
    {
     "name": "stdout",
     "output_type": "stream",
     "text": [
      "<class 'pandas.core.frame.DataFrame'>\n",
      "RangeIndex: 16496 entries, 0 to 16495\n",
      "Data columns (total 18 columns):\n",
      "EmployeeNo                             16496 non-null object\n",
      "Division                               16496 non-null object\n",
      "Qualification                          16496 non-null object\n",
      "Gender                                 16496 non-null object\n",
      "Channel_of_Recruitment                 16496 non-null object\n",
      "Trainings_Attended                     16496 non-null int64\n",
      "Year_of_birth                          16496 non-null int64\n",
      "Last_performance_score                 16496 non-null float64\n",
      "Year_of_recruitment                    16496 non-null int64\n",
      "Targets_met                            16496 non-null int64\n",
      "Previous_Award                         16496 non-null int64\n",
      "Training_score_average                 16496 non-null int64\n",
      "State_Of_Origin                        16496 non-null object\n",
      "Foreign_schooled                       16496 non-null object\n",
      "Marital_Status                         16496 non-null object\n",
      "Past_Disciplinary_Action               16496 non-null object\n",
      "Previous_IntraDepartmental_Movement    16496 non-null object\n",
      "No_of_previous_employers               16496 non-null object\n",
      "dtypes: float64(1), int64(6), object(11)\n",
      "memory usage: 2.3+ MB\n"
     ]
    }
   ],
   "source": [
    "test_set.info()"
   ]
  },
  {
   "cell_type": "code",
   "execution_count": null,
   "metadata": {},
   "outputs": [],
   "source": []
  },
  {
   "cell_type": "markdown",
   "metadata": {},
   "source": [
    "Visualization aspect"
   ]
  },
  {
   "cell_type": "markdown",
   "metadata": {},
   "source": [
    "Checking how the target feature is distributed,whether it is equally distributed or non equally distributed "
   ]
  },
  {
   "cell_type": "code",
   "execution_count": 10,
   "metadata": {},
   "outputs": [
    {
     "data": {
      "text/plain": [
       "<matplotlib.axes._subplots.AxesSubplot at 0xba997f0>"
      ]
     },
     "execution_count": 10,
     "metadata": {},
     "output_type": "execute_result"
    },
    {
     "data": {
      "image/png": "[encoded data removed]",
      "text/plain": [
       "<Figure size 432x288 with 1 Axes>"
      ]
     },
     "metadata": {
      "needs_background": "light"
     },
     "output_type": "display_data"
    }
   ],
   "source": [
    "sns.countplot(x='Promoted_or_Not',data=training_set)\n",
    "#the data is imbalance dataset"
   ]
  },
  {
   "cell_type": "markdown",
   "metadata": {},
   "source": [
    "Want to check the number:\n",
    "Promoted ones ,\n",
    "Not promoted ones and\n",
    "Their Percentages respectively"
   ]
  },
  {
   "cell_type": "code",
   "execution_count": 11,
   "metadata": {},
   "outputs": [
    {
     "name": "stdout",
     "output_type": "stream",
     "text": [
      "The Total number of Staff is: 38312\n",
      "The number of promoted staff is: 3241\n",
      "Precentage of promoted staff: 8.459490499060347\n",
      "The number of not promoted staff is: 35071\n",
      "Precentage of not promoted staff: 91.54050950093965\n"
     ]
    }
   ],
   "source": [
    "Total_number_of_Staff = len(training_set['Promoted_or_Not'])\n",
    "Promoted_Staff = len(training_set[training_set['Promoted_or_Not']==1])\n",
    "Not_Promoted =  len(training_set[training_set['Promoted_or_Not']==0])\n",
    "Precentage_promoted_staff = Promoted_Staff/Total_number_of_Staff\n",
    "Precentage_not_promoted_staff = Not_Promoted/Total_number_of_Staff\n",
    "print('The Total number of Staff is:',Total_number_of_Staff)\n",
    "print('The number of promoted staff is:',Promoted_Staff)\n",
    "print('Precentage of promoted staff:',Precentage_promoted_staff*100)\n",
    "print('The number of not promoted staff is:',Not_Promoted)\n",
    "print('Precentage of not promoted staff:',Precentage_not_promoted_staff*100)"
   ]
  },
  {
   "cell_type": "markdown",
   "metadata": {},
   "source": [
    "want to chack for outliners using the scatter plot"
   ]
  },
  {
   "cell_type": "code",
   "execution_count": 12,
   "metadata": {},
   "outputs": [],
   "source": [
    "#sns.pairplot(training_set)\n",
    "#the data doesnt contain outliners which could hinder the model performance"
   ]
  },
  {
   "cell_type": "markdown",
   "metadata": {},
   "source": [
    "Checking the correlations between the features using heatmap"
   ]
  },
  {
   "cell_type": "code",
   "execution_count": 13,
   "metadata": {},
   "outputs": [
    {
     "data": {
      "text/plain": [
       "<matplotlib.axes._subplots.AxesSubplot at 0xb64f588>"
      ]
     },
     "execution_count": 13,
     "metadata": {},
     "output_type": "execute_result"
    },
    {
     "data": {
      "image/png": "[encoded data removed]",
      "text/plain": [
       "<Figure size 1440x1440 with 2 Axes>"
      ]
     },
     "metadata": {
      "needs_background": "light"
     },
     "output_type": "display_data"
    }
   ],
   "source": [
    "plt.figure(figsize=(20,20))\n",
    "sns.heatmap(training_set.corr(),annot=True,linecolor='w',linewidths=1)"
   ]
  },
  {
   "cell_type": "markdown",
   "metadata": {},
   "source": [
    " \n",
    "#let check the impact of all the categorical column on the Promoted_or_Not column in the train dataset\n",
    "#we will calculate the mean of promoted staff in each categorical column"
   ]
  },
  {
   "cell_type": "code",
   "execution_count": 14,
   "metadata": {},
   "outputs": [
    {
     "name": "stdout",
     "output_type": "stream",
     "text": [
      "Total female 11432\n",
      "Total male 26880\n"
     ]
    },
    {
     "data": {
      "text/html": [
       "<div>\n",
       "<style scoped>\n",
       "    .dataframe tbody tr th:only-of-type {\n",
       "        vertical-align: middle;\n",
       "    }\n",
       "\n",
       "    .dataframe tbody tr th {\n",
       "        vertical-align: top;\n",
       "    }\n",
       "\n",
       "    .dataframe thead th {\n",
       "        text-align: right;\n",
       "    }\n",
       "</style>\n",
       "<table border=\"1\" class=\"dataframe\">\n",
       "  <thead>\n",
       "    <tr style=\"text-align: right;\">\n",
       "      <th></th>\n",
       "      <th>Gender</th>\n",
       "      <th>Promoted_or_Not</th>\n",
       "    </tr>\n",
       "  </thead>\n",
       "  <tbody>\n",
       "    <tr>\n",
       "      <td>0</td>\n",
       "      <td>Female</td>\n",
       "      <td>0.089048</td>\n",
       "    </tr>\n",
       "    <tr>\n",
       "      <td>1</td>\n",
       "      <td>Male</td>\n",
       "      <td>0.082701</td>\n",
       "    </tr>\n",
       "  </tbody>\n",
       "</table>\n",
       "</div>"
      ],
      "text/plain": [
       "   Gender  Promoted_or_Not\n",
       "0  Female         0.089048\n",
       "1    Male         0.082701"
      ]
     },
     "execution_count": 14,
     "metadata": {},
     "output_type": "execute_result"
    },
    {
     "data": {
      "image/png": "[encoded data removed]",
      "text/plain": [
       "<Figure size 432x288 with 1 Axes>"
      ]
     },
     "metadata": {
      "needs_background": "light"
     },
     "output_type": "display_data"
    }
   ],
   "source": [
    "sns.barplot(x='Gender',y='Promoted_or_Not',data=training_set)\n",
    "female=training_set['Gender'].apply(lambda x:x.count('Female')).sum()\n",
    "print('Total female',female)\n",
    "print('Total male',38312-female)\n",
    "training_set[['Gender','Promoted_or_Not']].groupby(['Gender'],as_index=False).mean()\n",
    "#note the total number of male is greater than female but number of females promoted are more than that of males"
   ]
  },
  {
   "cell_type": "code",
   "execution_count": 15,
   "metadata": {},
   "outputs": [
    {
     "data": {
      "text/html": [
       "<div>\n",
       "<style scoped>\n",
       "    .dataframe tbody tr th:only-of-type {\n",
       "        vertical-align: middle;\n",
       "    }\n",
       "\n",
       "    .dataframe tbody tr th {\n",
       "        vertical-align: top;\n",
       "    }\n",
       "\n",
       "    .dataframe thead th {\n",
       "        text-align: right;\n",
       "    }\n",
       "</style>\n",
       "<table border=\"1\" class=\"dataframe\">\n",
       "  <thead>\n",
       "    <tr style=\"text-align: right;\">\n",
       "      <th></th>\n",
       "      <th>Qualification</th>\n",
       "      <th>Promoted_or_Not</th>\n",
       "    </tr>\n",
       "  </thead>\n",
       "  <tbody>\n",
       "    <tr>\n",
       "      <td>0</td>\n",
       "      <td>First Degree or HND</td>\n",
       "      <td>0.079869</td>\n",
       "    </tr>\n",
       "    <tr>\n",
       "      <td>1</td>\n",
       "      <td>MSc, MBA and PhD</td>\n",
       "      <td>0.096666</td>\n",
       "    </tr>\n",
       "    <tr>\n",
       "      <td>2</td>\n",
       "      <td>Non-University Education</td>\n",
       "      <td>0.088737</td>\n",
       "    </tr>\n",
       "  </tbody>\n",
       "</table>\n",
       "</div>"
      ],
      "text/plain": [
       "              Qualification  Promoted_or_Not\n",
       "0       First Degree or HND         0.079869\n",
       "1          MSc, MBA and PhD         0.096666\n",
       "2  Non-University Education         0.088737"
      ]
     },
     "execution_count": 15,
     "metadata": {},
     "output_type": "execute_result"
    },
    {
     "data": {
      "image/png": "[encoded data removed]",
      "text/plain": [
       "<Figure size 432x288 with 1 Axes>"
      ]
     },
     "metadata": {
      "needs_background": "light"
     },
     "output_type": "display_data"
    }
   ],
   "source": [
    "sns.barplot(x='Qualification',y='Promoted_or_Not',data=training_set)\n",
    "training_set[['Qualification','Promoted_or_Not']].groupby(['Qualification'],as_index=False).mean()"
   ]
  },
  {
   "cell_type": "code",
   "execution_count": 16,
   "metadata": {},
   "outputs": [
    {
     "data": {
      "text/html": [
       "<div>\n",
       "<style scoped>\n",
       "    .dataframe tbody tr th:only-of-type {\n",
       "        vertical-align: middle;\n",
       "    }\n",
       "\n",
       "    .dataframe tbody tr th {\n",
       "        vertical-align: top;\n",
       "    }\n",
       "\n",
       "    .dataframe thead th {\n",
       "        text-align: right;\n",
       "    }\n",
       "</style>\n",
       "<table border=\"1\" class=\"dataframe\">\n",
       "  <thead>\n",
       "    <tr style=\"text-align: right;\">\n",
       "      <th></th>\n",
       "      <th>State_Of_Origin</th>\n",
       "      <th>Promoted_or_Not</th>\n",
       "    </tr>\n",
       "  </thead>\n",
       "  <tbody>\n",
       "    <tr>\n",
       "      <td>0</td>\n",
       "      <td>ABIA</td>\n",
       "      <td>0.068421</td>\n",
       "    </tr>\n",
       "    <tr>\n",
       "      <td>1</td>\n",
       "      <td>ADAMAWA</td>\n",
       "      <td>0.077686</td>\n",
       "    </tr>\n",
       "    <tr>\n",
       "      <td>2</td>\n",
       "      <td>AKWA IBOM</td>\n",
       "      <td>0.084695</td>\n",
       "    </tr>\n",
       "    <tr>\n",
       "      <td>3</td>\n",
       "      <td>ANAMBRA</td>\n",
       "      <td>0.095906</td>\n",
       "    </tr>\n",
       "    <tr>\n",
       "      <td>4</td>\n",
       "      <td>BAUCHI</td>\n",
       "      <td>0.080790</td>\n",
       "    </tr>\n",
       "  </tbody>\n",
       "</table>\n",
       "</div>"
      ],
      "text/plain": [
       "  State_Of_Origin  Promoted_or_Not\n",
       "0            ABIA         0.068421\n",
       "1         ADAMAWA         0.077686\n",
       "2       AKWA IBOM         0.084695\n",
       "3         ANAMBRA         0.095906\n",
       "4          BAUCHI         0.080790"
      ]
     },
     "execution_count": 16,
     "metadata": {},
     "output_type": "execute_result"
    },
    {
     "data": {
      "image/png": "[encoded data removed]",
      "text/plain": [
       "<Figure size 2160x720 with 1 Axes>"
      ]
     },
     "metadata": {
      "needs_background": "light"
     },
     "output_type": "display_data"
    }
   ],
   "source": [
    "plt.figure(figsize=(30,10))\n",
    "sns.barplot(x='State_Of_Origin',y='Promoted_or_Not',data=training_set)\n",
    "training_set[['State_Of_Origin','Promoted_or_Not']].groupby(['State_Of_Origin'],as_index=False).mean().head()"
   ]
  },
  {
   "cell_type": "code",
   "execution_count": 17,
   "metadata": {},
   "outputs": [
    {
     "data": {
      "text/html": [
       "<div>\n",
       "<style scoped>\n",
       "    .dataframe tbody tr th:only-of-type {\n",
       "        vertical-align: middle;\n",
       "    }\n",
       "\n",
       "    .dataframe tbody tr th {\n",
       "        vertical-align: top;\n",
       "    }\n",
       "\n",
       "    .dataframe thead th {\n",
       "        text-align: right;\n",
       "    }\n",
       "</style>\n",
       "<table border=\"1\" class=\"dataframe\">\n",
       "  <thead>\n",
       "    <tr style=\"text-align: right;\">\n",
       "      <th></th>\n",
       "      <th>Division</th>\n",
       "      <th>Promoted_or_Not</th>\n",
       "    </tr>\n",
       "  </thead>\n",
       "  <tbody>\n",
       "    <tr>\n",
       "      <td>0</td>\n",
       "      <td>Business Finance Operations</td>\n",
       "      <td>0.081747</td>\n",
       "    </tr>\n",
       "    <tr>\n",
       "      <td>1</td>\n",
       "      <td>Commercial Sales and Marketing</td>\n",
       "      <td>0.071911</td>\n",
       "    </tr>\n",
       "    <tr>\n",
       "      <td>2</td>\n",
       "      <td>Customer Support and Field Operations</td>\n",
       "      <td>0.088298</td>\n",
       "    </tr>\n",
       "    <tr>\n",
       "      <td>3</td>\n",
       "      <td>Information Technology and Solution Support</td>\n",
       "      <td>0.107431</td>\n",
       "    </tr>\n",
       "    <tr>\n",
       "      <td>4</td>\n",
       "      <td>Information and Strategy</td>\n",
       "      <td>0.093523</td>\n",
       "    </tr>\n",
       "    <tr>\n",
       "      <td>5</td>\n",
       "      <td>People/HR Management</td>\n",
       "      <td>0.056925</td>\n",
       "    </tr>\n",
       "    <tr>\n",
       "      <td>6</td>\n",
       "      <td>Regulatory and Legal services</td>\n",
       "      <td>0.055935</td>\n",
       "    </tr>\n",
       "    <tr>\n",
       "      <td>7</td>\n",
       "      <td>Research and Innovation</td>\n",
       "      <td>0.061782</td>\n",
       "    </tr>\n",
       "    <tr>\n",
       "      <td>8</td>\n",
       "      <td>Sourcing and Purchasing</td>\n",
       "      <td>0.096793</td>\n",
       "    </tr>\n",
       "  </tbody>\n",
       "</table>\n",
       "</div>"
      ],
      "text/plain": [
       "                                      Division  Promoted_or_Not\n",
       "0                  Business Finance Operations         0.081747\n",
       "1               Commercial Sales and Marketing         0.071911\n",
       "2        Customer Support and Field Operations         0.088298\n",
       "3  Information Technology and Solution Support         0.107431\n",
       "4                     Information and Strategy         0.093523\n",
       "5                         People/HR Management         0.056925\n",
       "6                Regulatory and Legal services         0.055935\n",
       "7                      Research and Innovation         0.061782\n",
       "8                      Sourcing and Purchasing         0.096793"
      ]
     },
     "execution_count": 17,
     "metadata": {},
     "output_type": "execute_result"
    },
    {
     "data": {
      "image/png": "[encoded data removed]",
      "text/plain": [
       "<Figure size 1440x576 with 1 Axes>"
      ]
     },
     "metadata": {
      "needs_background": "light"
     },
     "output_type": "display_data"
    }
   ],
   "source": [
    "plt.figure(figsize=(20,8))\n",
    "sns.barplot(x='Division',y='Promoted_or_Not',data=training_set)\n",
    "training_set[['Division','Promoted_or_Not']].groupby(['Division'],as_index=False).mean()"
   ]
  },
  {
   "cell_type": "code",
   "execution_count": 18,
   "metadata": {},
   "outputs": [
    {
     "data": {
      "text/html": [
       "<div>\n",
       "<style scoped>\n",
       "    .dataframe tbody tr th:only-of-type {\n",
       "        vertical-align: middle;\n",
       "    }\n",
       "\n",
       "    .dataframe tbody tr th {\n",
       "        vertical-align: top;\n",
       "    }\n",
       "\n",
       "    .dataframe thead th {\n",
       "        text-align: right;\n",
       "    }\n",
       "</style>\n",
       "<table border=\"1\" class=\"dataframe\">\n",
       "  <thead>\n",
       "    <tr style=\"text-align: right;\">\n",
       "      <th></th>\n",
       "      <th>Marital_Status</th>\n",
       "      <th>Promoted_or_Not</th>\n",
       "    </tr>\n",
       "  </thead>\n",
       "  <tbody>\n",
       "    <tr>\n",
       "      <td>0</td>\n",
       "      <td>Married</td>\n",
       "      <td>0.084972</td>\n",
       "    </tr>\n",
       "    <tr>\n",
       "      <td>1</td>\n",
       "      <td>Not_Sure</td>\n",
       "      <td>0.107438</td>\n",
       "    </tr>\n",
       "    <tr>\n",
       "      <td>2</td>\n",
       "      <td>Single</td>\n",
       "      <td>0.081709</td>\n",
       "    </tr>\n",
       "  </tbody>\n",
       "</table>\n",
       "</div>"
      ],
      "text/plain": [
       "  Marital_Status  Promoted_or_Not\n",
       "0        Married         0.084972\n",
       "1       Not_Sure         0.107438\n",
       "2         Single         0.081709"
      ]
     },
     "execution_count": 18,
     "metadata": {},
     "output_type": "execute_result"
    },
    {
     "data": {
      "image/png": "[encoded data removed]",
      "text/plain": [
       "<Figure size 432x288 with 1 Axes>"
      ]
     },
     "metadata": {
      "needs_background": "light"
     },
     "output_type": "display_data"
    }
   ],
   "source": [
    "sns.barplot(x='Marital_Status',y='Promoted_or_Not',data=training_set)\n",
    "training_set[['Marital_Status','Promoted_or_Not']].groupby(['Marital_Status'],as_index=False).mean()"
   ]
  },
  {
   "cell_type": "code",
   "execution_count": 19,
   "metadata": {},
   "outputs": [
    {
     "data": {
      "text/html": [
       "<div>\n",
       "<style scoped>\n",
       "    .dataframe tbody tr th:only-of-type {\n",
       "        vertical-align: middle;\n",
       "    }\n",
       "\n",
       "    .dataframe tbody tr th {\n",
       "        vertical-align: top;\n",
       "    }\n",
       "\n",
       "    .dataframe thead th {\n",
       "        text-align: right;\n",
       "    }\n",
       "</style>\n",
       "<table border=\"1\" class=\"dataframe\">\n",
       "  <thead>\n",
       "    <tr style=\"text-align: right;\">\n",
       "      <th></th>\n",
       "      <th>Foreign_schooled</th>\n",
       "      <th>Promoted_or_Not</th>\n",
       "    </tr>\n",
       "  </thead>\n",
       "  <tbody>\n",
       "    <tr>\n",
       "      <td>0</td>\n",
       "      <td>No</td>\n",
       "      <td>0.081700</td>\n",
       "    </tr>\n",
       "    <tr>\n",
       "      <td>1</td>\n",
       "      <td>Yes</td>\n",
       "      <td>0.084869</td>\n",
       "    </tr>\n",
       "  </tbody>\n",
       "</table>\n",
       "</div>"
      ],
      "text/plain": [
       "  Foreign_schooled  Promoted_or_Not\n",
       "0               No         0.081700\n",
       "1              Yes         0.084869"
      ]
     },
     "execution_count": 19,
     "metadata": {},
     "output_type": "execute_result"
    },
    {
     "data": {
      "image/png": "[encoded data removed]",
      "text/plain": [
       "<Figure size 432x288 with 1 Axes>"
      ]
     },
     "metadata": {
      "needs_background": "light"
     },
     "output_type": "display_data"
    }
   ],
   "source": [
    "sns.barplot(x='Foreign_schooled',y='Promoted_or_Not',data=training_set)\n",
    "training_set[['Foreign_schooled','Promoted_or_Not']].groupby(['Foreign_schooled'],as_index=False).mean()"
   ]
  },
  {
   "cell_type": "code",
   "execution_count": 20,
   "metadata": {},
   "outputs": [
    {
     "data": {
      "text/html": [
       "<div>\n",
       "<style scoped>\n",
       "    .dataframe tbody tr th:only-of-type {\n",
       "        vertical-align: middle;\n",
       "    }\n",
       "\n",
       "    .dataframe tbody tr th {\n",
       "        vertical-align: top;\n",
       "    }\n",
       "\n",
       "    .dataframe thead th {\n",
       "        text-align: right;\n",
       "    }\n",
       "</style>\n",
       "<table border=\"1\" class=\"dataframe\">\n",
       "  <thead>\n",
       "    <tr style=\"text-align: right;\">\n",
       "      <th></th>\n",
       "      <th>Previous_IntraDepartmental_Movement</th>\n",
       "      <th>Promoted_or_Not</th>\n",
       "    </tr>\n",
       "  </thead>\n",
       "  <tbody>\n",
       "    <tr>\n",
       "      <td>0</td>\n",
       "      <td>No</td>\n",
       "      <td>0.085338</td>\n",
       "    </tr>\n",
       "    <tr>\n",
       "      <td>1</td>\n",
       "      <td>Yes</td>\n",
       "      <td>0.077435</td>\n",
       "    </tr>\n",
       "  </tbody>\n",
       "</table>\n",
       "</div>"
      ],
      "text/plain": [
       "  Previous_IntraDepartmental_Movement  Promoted_or_Not\n",
       "0                                  No         0.085338\n",
       "1                                 Yes         0.077435"
      ]
     },
     "execution_count": 20,
     "metadata": {},
     "output_type": "execute_result"
    },
    {
     "data": {
      "image/png": "[encoded data removed]",
      "text/plain": [
       "<Figure size 432x288 with 1 Axes>"
      ]
     },
     "metadata": {
      "needs_background": "light"
     },
     "output_type": "display_data"
    }
   ],
   "source": [
    "sns.barplot(x='Previous_IntraDepartmental_Movement',y='Promoted_or_Not',data=training_set)\n",
    "training_set[['Previous_IntraDepartmental_Movement','Promoted_or_Not']].groupby(['Previous_IntraDepartmental_Movement'],as_index=False).mean()"
   ]
  },
  {
   "cell_type": "markdown",
   "metadata": {},
   "source": [
    "Feature Engineering and Features Selection"
   ]
  },
  {
   "cell_type": "code",
   "execution_count": 21,
   "metadata": {},
   "outputs": [
    {
     "name": "stdout",
     "output_type": "stream",
     "text": [
      "<class 'pandas.core.frame.DataFrame'>\n",
      "RangeIndex: 38312 entries, 0 to 38311\n",
      "Data columns (total 20 columns):\n",
      "EmployeeNo                             38312 non-null object\n",
      "Division                               38312 non-null object\n",
      "Qualification                          38312 non-null object\n",
      "Gender                                 38312 non-null object\n",
      "Channel_of_Recruitment                 38312 non-null object\n",
      "Trainings_Attended                     38312 non-null int64\n",
      "Year_of_birth                          38312 non-null int64\n",
      "Last_performance_score                 38312 non-null float64\n",
      "Year_of_recruitment                    38312 non-null int64\n",
      "Targets_met                            38312 non-null int64\n",
      "Previous_Award                         38312 non-null int64\n",
      "Training_score_average                 38312 non-null int64\n",
      "State_Of_Origin                        38312 non-null object\n",
      "Foreign_schooled                       38312 non-null object\n",
      "Marital_Status                         38312 non-null object\n",
      "Past_Disciplinary_Action               38312 non-null object\n",
      "Previous_IntraDepartmental_Movement    38312 non-null object\n",
      "No_of_previous_employers               38312 non-null object\n",
      "Promoted_or_Not                        38312 non-null int64\n",
      "Age                                    38312 non-null int64\n",
      "dtypes: float64(1), int64(8), object(11)\n",
      "memory usage: 5.8+ MB\n"
     ]
    }
   ],
   "source": [
    "#want to create Age column using the year of birth of each staff\n",
    "full_data = [training_set,test_set]\n",
    "for dataset in full_data:\n",
    "    dataset['Age'] = 2019-dataset['Year_of_birth']\n",
    "training_set.info()"
   ]
  },
  {
   "cell_type": "code",
   "execution_count": 22,
   "metadata": {},
   "outputs": [],
   "source": [
    "#want to create year in service column from year of recruitment column\n",
    "for dataset in full_data:\n",
    "    dataset['Year_in_Service'] = 2019 - dataset['Year_of_recruitment']"
   ]
  },
  {
   "cell_type": "code",
   "execution_count": 23,
   "metadata": {},
   "outputs": [],
   "source": [
    "#want to geopolitical zone column by allocating each state in state_of_origin column to their respective geopolitical zone in Nigeria\n",
    "for dataset in full_data:\n",
    "    dataset.loc[(dataset['State_Of_Origin']=='OYO'),'Geopolitical_zone']='South_West'\n",
    "    dataset.loc[(dataset['State_Of_Origin']=='OSUN'),'Geopolitical_zone']='South_West'\n",
    "    dataset.loc[(dataset['State_Of_Origin']=='LAGOS'),'Geopolitical_zone']='South_West'\n",
    "    dataset.loc[(dataset['State_Of_Origin']=='EKITI'),'Geopolitical_zone']='South_West'\n",
    "    dataset.loc[(dataset['State_Of_Origin']=='OGUN'),'Geopolitical_zone']='South_West'\n",
    "    dataset.loc[(dataset['State_Of_Origin']=='ONDO'),'Geopolitical_zone']='South_West'\n",
    "    dataset.loc[(dataset['State_Of_Origin']=='ANAMBRA'),'Geopolitical_zone']='South_East'\n",
    "    dataset.loc[(dataset['State_Of_Origin']=='ENUGU'),'Geopolitical_zone']='South_East'\n",
    "    dataset.loc[(dataset['State_Of_Origin']=='EBONYI'),'Geopolitical_zone']='South_East'\n",
    "    dataset.loc[(dataset['State_Of_Origin']=='ABIA'),'Geopolitical_zone']='South_East'\n",
    "    dataset.loc[(dataset['State_Of_Origin']=='IMO'),'Geopolitical_zone']='South_East'\n",
    "    dataset.loc[(dataset['State_Of_Origin']=='AKWA IBOM'),'Geopolitical_zone']='South_South'\n",
    "    dataset.loc[(dataset['State_Of_Origin']=='EDO'),'Geopolitical_zone']='South_South'\n",
    "    dataset.loc[(dataset['State_Of_Origin']=='RIVERS'),'Geopolitical_zone']='South_South'\n",
    "    dataset.loc[(dataset['State_Of_Origin']=='CROSS RIVER'),'Geopolitical_zone']='South_South'\n",
    "    dataset.loc[(dataset['State_Of_Origin']=='DELTA'),'Geopolitical_zone']='South_South'\n",
    "    dataset.loc[(dataset['State_Of_Origin']=='BAYELSA'),'Geopolitical_zone']='South_South'\n",
    "    dataset.loc[(dataset['State_Of_Origin']=='KATSINA'),'Geopolitical_zone']='North_West'\n",
    "    dataset.loc[(dataset['State_Of_Origin']=='JIGAWA'),'Geopolitical_zone']='North_West'    \n",
    "    dataset.loc[(dataset['State_Of_Origin']=='KADUNA'),'Geopolitical_zone']='North_West'\n",
    "    dataset.loc[(dataset['State_Of_Origin']=='KEBBI'),'Geopolitical_zone']='North_West'    \n",
    "    dataset.loc[(dataset['State_Of_Origin']=='SOKOTO'),'Geopolitical_zone']='North_West'\n",
    "    dataset.loc[(dataset['State_Of_Origin']=='ZAMFARA'),'Geopolitical_zone']='North_West'    \n",
    "    dataset.loc[(dataset['State_Of_Origin']=='KANO'),'Geopolitical_zone']='North_West'\n",
    "    dataset.loc[(dataset['State_Of_Origin']=='BAUCHI'),'Geopolitical_zone']='North_East'  \n",
    "    dataset.loc[(dataset['State_Of_Origin']=='TARABA'),'Geopolitical_zone']='North_East'\n",
    "    dataset.loc[(dataset['State_Of_Origin']=='ADAMAWA'),'Geopolitical_zone']='North_East'  \n",
    "    dataset.loc[(dataset['State_Of_Origin']=='BORNO'),'Geopolitical_zone']='North_East'\n",
    "    dataset.loc[(dataset['State_Of_Origin']=='GOMBE'),'Geopolitical_zone']='North_East'  \n",
    "    dataset.loc[(dataset['State_Of_Origin']=='YOBE'),'Geopolitical_zone']='North_East'\n",
    "    dataset.loc[(dataset['State_Of_Origin']=='KWARA'),'Geopolitical_zone']='North_Central'  \n",
    "    dataset.loc[(dataset['State_Of_Origin']=='NIGER'),'Geopolitical_zone']='North_Central'\n",
    "    dataset.loc[(dataset['State_Of_Origin']=='FCT'),'Geopolitical_zone']='North_Central'  \n",
    "    dataset.loc[(dataset['State_Of_Origin']=='NASSARAWA'),'Geopolitical_zone']='North_Central'   \n",
    "    dataset.loc[(dataset['State_Of_Origin']=='PLATEAU'),'Geopolitical_zone']='North_Central'  \n",
    "    dataset.loc[(dataset['State_Of_Origin']=='BENUE'),'Geopolitical_zone']='North_Central'\n",
    "    dataset.loc[(dataset['State_Of_Origin']=='KOGI'),'Geopolitical_zone']='North_Central'    "
   ]
  },
  {
   "cell_type": "code",
   "execution_count": 24,
   "metadata": {},
   "outputs": [
    {
     "name": "stdout",
     "output_type": "stream",
     "text": [
      "<class 'pandas.core.frame.DataFrame'>\n",
      "RangeIndex: 38312 entries, 0 to 38311\n",
      "Data columns (total 22 columns):\n",
      "EmployeeNo                             38312 non-null object\n",
      "Division                               38312 non-null object\n",
      "Qualification                          38312 non-null object\n",
      "Gender                                 38312 non-null object\n",
      "Channel_of_Recruitment                 38312 non-null object\n",
      "Trainings_Attended                     38312 non-null int64\n",
      "Year_of_birth                          38312 non-null int64\n",
      "Last_performance_score                 38312 non-null float64\n",
      "Year_of_recruitment                    38312 non-null int64\n",
      "Targets_met                            38312 non-null int64\n",
      "Previous_Award                         38312 non-null int64\n",
      "Training_score_average                 38312 non-null int64\n",
      "State_Of_Origin                        38312 non-null object\n",
      "Foreign_schooled                       38312 non-null object\n",
      "Marital_Status                         38312 non-null object\n",
      "Past_Disciplinary_Action               38312 non-null object\n",
      "Previous_IntraDepartmental_Movement    38312 non-null object\n",
      "No_of_previous_employers               38312 non-null object\n",
      "Promoted_or_Not                        38312 non-null int64\n",
      "Age                                    38312 non-null int64\n",
      "Year_in_Service                        38312 non-null int64\n",
      "Geopolitical_zone                      38312 non-null object\n",
      "dtypes: float64(1), int64(9), object(12)\n",
      "memory usage: 6.4+ MB\n"
     ]
    }
   ],
   "source": [
    "training_set.info()"
   ]
  },
  {
   "cell_type": "code",
   "execution_count": 25,
   "metadata": {},
   "outputs": [
    {
     "name": "stdout",
     "output_type": "stream",
     "text": [
      "Division\n",
      "Commercial Sales and Marketing                 11695\n",
      "Customer Support and Field Operations           7973\n",
      "Sourcing and Purchasing                         5052\n",
      "Information Technology and Solution Support     4952\n",
      "Information and Strategy                        3721\n",
      "Business Finance Operations                     1786\n",
      "People/HR Management                            1704\n",
      "Regulatory and Legal services                    733\n",
      "Research and Innovation                          696\n",
      "Name: Division, dtype: int64\n",
      "\n",
      "Qualification\n",
      "First Degree or HND         27257\n",
      "MSc, MBA and PhD            10469\n",
      "Non-University Education      586\n",
      "Name: Qualification, dtype: int64\n",
      "\n",
      "Gender\n",
      "Male      26880\n",
      "Female    11432\n",
      "Name: Gender, dtype: int64\n",
      "\n",
      "Channel_of_Recruitment\n",
      "Agency and others                  21310\n",
      "Direct Internal process            16194\n",
      "Referral and Special candidates      808\n",
      "Name: Channel_of_Recruitment, dtype: int64\n",
      "\n",
      "State_Of_Origin\n",
      "LAGOS          6204\n",
      "FCT            2389\n",
      "OGUN           2302\n",
      "RIVERS         2222\n",
      "ANAMBRA        1710\n",
      "KANO           1649\n",
      "DELTA          1594\n",
      "OYO            1508\n",
      "KADUNA         1399\n",
      "IMO            1307\n",
      "EDO            1259\n",
      "ENUGU          1025\n",
      "ABIA            950\n",
      "OSUN            929\n",
      "ONDO            875\n",
      "NIGER           857\n",
      "KWARA           765\n",
      "PLATEAU         739\n",
      "AKWA IBOM       673\n",
      "NASSARAWA       632\n",
      "KATSINA         615\n",
      "ADAMAWA         605\n",
      "BENUE           579\n",
      "BAUCHI          557\n",
      "KOGI            542\n",
      "SOKOTO          499\n",
      "CROSS RIVER     495\n",
      "EKITI           455\n",
      "BORNO           447\n",
      "TARABA          400\n",
      "KEBBI           393\n",
      "BAYELSA         324\n",
      "EBONYI          313\n",
      "GOMBE           291\n",
      "ZAMFARA         290\n",
      "JIGAWA          262\n",
      "YOBE            257\n",
      "Name: State_Of_Origin, dtype: int64\n",
      "\n",
      "Foreign_schooled\n",
      "Yes    34995\n",
      "No      3317\n",
      "Name: Foreign_schooled, dtype: int64\n",
      "\n",
      "Marital_Status\n",
      "Married     31022\n",
      "Single       6927\n",
      "Not_Sure      363\n",
      "Name: Marital_Status, dtype: int64\n",
      "\n",
      "Past_Disciplinary_Action\n",
      "No     38161\n",
      "Yes      151\n",
      "Name: Past_Disciplinary_Action, dtype: int64\n",
      "\n",
      "Previous_IntraDepartmental_Movement\n",
      "No     34709\n",
      "Yes     3603\n",
      "Name: Previous_IntraDepartmental_Movement, dtype: int64\n",
      "\n",
      "Geopolitical_zone\n",
      "South_West       12273\n",
      "South_South       6567\n",
      "North_Central     6503\n",
      "South_East        5305\n",
      "North_West        5107\n",
      "North_East        2557\n",
      "Name: Geopolitical_zone, dtype: int64\n",
      "\n"
     ]
    }
   ],
   "source": [
    "categorical_columns=['Division', 'Qualification', 'Gender', 'Channel_of_Recruitment', \n",
    "                     'State_Of_Origin','Foreign_schooled', 'Marital_Status', 'Past_Disciplinary_Action',\n",
    "                    'Previous_IntraDepartmental_Movement','Geopolitical_zone']\n",
    "for column in categorical_columns:\n",
    "    print(column)\n",
    "    print(training_set[column].value_counts())\n",
    "    print( )"
   ]
  },
  {
   "cell_type": "code",
   "execution_count": 26,
   "metadata": {},
   "outputs": [],
   "source": [
    "#ordinal encoding for qualification column\n",
    "for dataset in full_data:\n",
    "    dataset.loc[dataset['Qualification']=='Non-University Education','Qualification']=0\n",
    "    dataset.loc[dataset['Qualification']=='First Degree or HND','Qualification']=1\n",
    "    dataset.loc[dataset['Qualification']=='MSc, MBA and PhD','Qualification']=2"
   ]
  },
  {
   "cell_type": "code",
   "execution_count": 27,
   "metadata": {},
   "outputs": [
    {
     "name": "stdout",
     "output_type": "stream",
     "text": [
      "<class 'pandas.core.frame.DataFrame'>\n",
      "RangeIndex: 16496 entries, 0 to 16495\n",
      "Data columns (total 21 columns):\n",
      "EmployeeNo                             16496 non-null object\n",
      "Division                               16496 non-null object\n",
      "Qualification                          16496 non-null int64\n",
      "Gender                                 16496 non-null object\n",
      "Channel_of_Recruitment                 16496 non-null object\n",
      "Trainings_Attended                     16496 non-null int64\n",
      "Year_of_birth                          16496 non-null int64\n",
      "Last_performance_score                 16496 non-null float64\n",
      "Year_of_recruitment                    16496 non-null int64\n",
      "Targets_met                            16496 non-null int64\n",
      "Previous_Award                         16496 non-null int64\n",
      "Training_score_average                 16496 non-null int64\n",
      "State_Of_Origin                        16496 non-null object\n",
      "Foreign_schooled                       16496 non-null object\n",
      "Marital_Status                         16496 non-null object\n",
      "Past_Disciplinary_Action               16496 non-null object\n",
      "Previous_IntraDepartmental_Movement    16496 non-null object\n",
      "No_of_previous_employers               16496 non-null object\n",
      "Age                                    16496 non-null int64\n",
      "Year_in_Service                        16496 non-null int64\n",
      "Geopolitical_zone                      16496 non-null object\n",
      "dtypes: float64(1), int64(9), object(11)\n",
      "memory usage: 2.6+ MB\n"
     ]
    }
   ],
   "source": [
    "test_set.info()"
   ]
  },
  {
   "cell_type": "code",
   "execution_count": 28,
   "metadata": {},
   "outputs": [],
   "source": [
    "#encoding the catergorical variables using dummy variables\n",
    "train_data=pd.get_dummies(training_set,columns=['Gender','Division','Channel_of_Recruitment','Marital_Status',\n",
    "                                         'State_Of_Origin','Past_Disciplinary_Action','Geopolitical_zone','Foreign_schooled'\n",
    "                                       ],prefix=['enc_sex','enc_div','enc_cha','enc_state','enc_sta',\n",
    "                                            'enc_past','enc_geo','enc_sch'],drop_first=True)\n",
    "test_data=pd.get_dummies(test_set,columns=['Gender','Division','Channel_of_Recruitment','Marital_Status'\n",
    "                                         ,'State_Of_Origin','Past_Disciplinary_Action',\n",
    "                                       'Geopolitical_zone','Foreign_schooled'\n",
    "                                        ],\n",
    "                                    prefix=['enc_sex','enc_div','enc_cha','enc_state','enc_sta',\n",
    "                                            'enc_past','enc_geo','enc_sch'],drop_first=True)\n",
    "train_data.drop(['EmployeeNo'],axis=1,inplace=True)"
   ]
  },
  {
   "cell_type": "code",
   "execution_count": 29,
   "metadata": {},
   "outputs": [],
   "source": [
    "#allocating the features to dependent and independent variable,i dropped 'Previous_IntraDepartmental_Movement','No_of_previous_employers'\n",
    "#because i did feature selection using boruta library and the two were the that useful for the prediction\n",
    "x = train_data.drop(['Promoted_or_Not','Previous_IntraDepartmental_Movement','No_of_previous_employers'],axis=1)\n",
    "y = train_data['Promoted_or_Not']"
   ]
  },
  {
   "cell_type": "code",
   "execution_count": 30,
   "metadata": {},
   "outputs": [
    {
     "name": "stderr",
     "output_type": "stream",
     "text": [
      "Using TensorFlow backend.\n"
     ]
    }
   ],
   "source": [
    "#want resample using imblearn because of the imbalance,i used Smote Tomek method\n",
    "from imblearn.combine import SMOTETomek\n",
    "from collections import Counter"
   ]
  },
  {
   "cell_type": "code",
   "execution_count": 31,
   "metadata": {},
   "outputs": [],
   "source": [
    "smk= SMOTETomek(random_state=100)\n",
    "x_res,y_res = smk.fit_sample(x,y)"
   ]
  },
  {
   "cell_type": "code",
   "execution_count": 32,
   "metadata": {},
   "outputs": [],
   "source": [
    "#importing the prediction model and i convert the resampled data to dataframe format\n",
    "import lightgbm\n",
    "from lightgbm import LGBMClassifier\n"
   ]
  },
  {
   "cell_type": "code",
   "execution_count": 33,
   "metadata": {},
   "outputs": [],
   "source": [
    "model = LGBMClassifier ()\n",
    "x_res=pd.DataFrame(x_res)\n",
    "y_res=pd.DataFrame(y_res)"
   ]
  },
  {
   "cell_type": "code",
   "execution_count": 34,
   "metadata": {},
   "outputs": [
    {
     "name": "stdout",
     "output_type": "stream",
     "text": [
      "Scores from each Iteration:  [0.9410229645093946, 0.9438935281837161, 0.944937369519833, 0.944937369519833, 0.94258872651357, 0.9431106471816284, 0.944937369519833, 0.9420668058455115, 0.9433716075156576, 0.9423277661795407]\n",
      "Average K-Fold Score : 0.9433194154488517\n"
     ]
    }
   ],
   "source": [
    "#used kfold cross validation splitting into 10 sets\n",
    "from sklearn.model_selection import KFold\n",
    "kf = KFold(n_splits=10,shuffle=True)\n",
    "scores = []\n",
    "for i in range(10):\n",
    "    result = next(kf.split(train_data), None)\n",
    "    x_train = x_res.iloc[result[0]]\n",
    "    x_test = x_res.iloc[result[1]]\n",
    "    \n",
    "    y_train = y_res.iloc[result[0]]\n",
    "    y_test = y_res.iloc[result[1]]\n",
    "    model.fit(x_train,y_train)\n",
    "    y_pred = model.predict(x_test)\n",
    "    scores.append(model.score(x_test,y_test))\n",
    "print('Scores from each Iteration: ', scores)\n",
    "print('Average K-Fold Score :' , np.mean(scores))"
   ]
  },
  {
   "cell_type": "code",
   "execution_count": 35,
   "metadata": {},
   "outputs": [
    {
     "name": "stdout",
     "output_type": "stream",
     "text": [
      "              precision    recall  f1-score   support\n",
      "\n",
      "           0       0.94      1.00      0.97      3498\n",
      "           1       0.94      0.36      0.52       334\n",
      "\n",
      "    accuracy                           0.94      3832\n",
      "   macro avg       0.94      0.68      0.74      3832\n",
      "weighted avg       0.94      0.94      0.93      3832\n",
      "\n",
      "0.5206073752711496\n",
      "0.6786401468075854\n"
     ]
    }
   ],
   "source": [
    "from sklearn.metrics import classification_report,f1_score,roc_auc_score\n",
    "print(classification_report(y_test,y_pred))\n",
    "print(f1_score(y_test,y_pred))\n",
    "print(roc_auc_score(y_test,y_pred))"
   ]
  },
  {
   "cell_type": "code",
   "execution_count": 36,
   "metadata": {},
   "outputs": [
    {
     "data": {
      "text/plain": [
       "array([0, 0, 0, ..., 0, 0, 0], dtype=int64)"
      ]
     },
     "execution_count": 36,
     "metadata": {},
     "output_type": "execute_result"
    }
   ],
   "source": [
    "#using the model on the test set provided\n",
    "submission= pd.DataFrame()\n",
    "submission['EmployeeNo'] = test_data.EmployeeNo\n",
    "test_dat = test_data.drop(['EmployeeNo','Previous_IntraDepartmental_Movement','No_of_previous_employers'],axis=1)\n",
    "prediction = model.predict(test_dat)\n",
    "prediction"
   ]
  },
  {
   "cell_type": "code",
   "execution_count": 37,
   "metadata": {},
   "outputs": [
    {
     "data": {
      "text/html": [
       "<div>\n",
       "<style scoped>\n",
       "    .dataframe tbody tr th:only-of-type {\n",
       "        vertical-align: middle;\n",
       "    }\n",
       "\n",
       "    .dataframe tbody tr th {\n",
       "        vertical-align: top;\n",
       "    }\n",
       "\n",
       "    .dataframe thead th {\n",
       "        text-align: right;\n",
       "    }\n",
       "</style>\n",
       "<table border=\"1\" class=\"dataframe\">\n",
       "  <thead>\n",
       "    <tr style=\"text-align: right;\">\n",
       "      <th></th>\n",
       "      <th>EmployeeNo</th>\n",
       "      <th>Promoted_or_Not</th>\n",
       "    </tr>\n",
       "  </thead>\n",
       "  <tbody>\n",
       "    <tr>\n",
       "      <td>0</td>\n",
       "      <td>YAK/S/00005</td>\n",
       "      <td>0</td>\n",
       "    </tr>\n",
       "    <tr>\n",
       "      <td>1</td>\n",
       "      <td>YAK/S/00011</td>\n",
       "      <td>0</td>\n",
       "    </tr>\n",
       "    <tr>\n",
       "      <td>2</td>\n",
       "      <td>YAK/S/00015</td>\n",
       "      <td>0</td>\n",
       "    </tr>\n",
       "    <tr>\n",
       "      <td>3</td>\n",
       "      <td>YAK/S/00016</td>\n",
       "      <td>0</td>\n",
       "    </tr>\n",
       "    <tr>\n",
       "      <td>4</td>\n",
       "      <td>YAK/S/00017</td>\n",
       "      <td>0</td>\n",
       "    </tr>\n",
       "  </tbody>\n",
       "</table>\n",
       "</div>"
      ],
      "text/plain": [
       "    EmployeeNo  Promoted_or_Not\n",
       "0  YAK/S/00005                0\n",
       "1  YAK/S/00011                0\n",
       "2  YAK/S/00015                0\n",
       "3  YAK/S/00016                0\n",
       "4  YAK/S/00017                0"
      ]
     },
     "execution_count": 37,
     "metadata": {},
     "output_type": "execute_result"
    }
   ],
   "source": [
    "submission['Promoted_or_Not']=prediction\n",
    "submission.head()"
   ]
  },
  {
   "cell_type": "code",
   "execution_count": 38,
   "metadata": {},
   "outputs": [],
   "source": [
    "submission.to_csv('final.csv', index=False)"
   ]
  }
 ],
 "metadata": {
  "kernelspec": {
   "display_name": "Python 3",
   "language": "python",
   "name": "python3"
  },
  "language_info": {
   "codemirror_mode": {
    "name": "ipython",
    "version": 3
   },
   "file_extension": ".py",
   "mimetype": "text/x-python",
   "name": "python",
   "nbconvert_exporter": "python",
   "pygments_lexer": "ipython3",
   "version": "3.7.0"
  }
 },
 "nbformat": 4,
 "nbformat_minor": 2
}
